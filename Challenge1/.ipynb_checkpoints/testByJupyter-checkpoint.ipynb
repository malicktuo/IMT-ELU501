{
 "cells": [
  {
   "cell_type": "code",
   "execution_count": 4,
   "metadata": {
    "scrolled": true
   },
   "outputs": [
    {
     "name": "stdout",
     "output_type": "stream",
     "text": [
      "Nb of users with one or more attribute college: 540\n",
      "Nb of users with one or more attribute location: 811\n",
      "Nb of users with one or more attribute employer: 730\n"
     ]
    }
   ],
   "source": [
    "#################################### \n",
    "#-------IMT-Atlantique ELU501\n",
    "#  ------Challeng_1\n",
    "#    --- Xuanqi HUANG et Malick TUO\n",
    "####################################\n",
    "# --------------------- Now your turn -------------------------------------#\n",
    "# Lest's us say you are U19886 and you want to work at Google.\n",
    "# Explore, implement your strategy to be helped in getting this job at Google.\n",
    "import networkx as nx\n",
    "import matplotlib.pyplot as plt\n",
    "from matplotlib import pylab\n",
    "import numpy as np\n",
    "import pickle\n",
    "\n",
    "def list_of_different_attribute_values(d):\n",
    "    return set([v for values in d.values() for v in values])\n",
    "\n",
    "\n",
    "def draw_graph(g, node_attribute=None, list_of_values_of_attributes=None):\n",
    "    \"\"\"\n",
    "    Draw the graph g.\n",
    "\n",
    "    Parameters\n",
    "    ----------\n",
    "    g : graph\n",
    "       A networkx graph\n",
    "    node_attribute : string\n",
    "       The name of the node attribute used to assign colors to the drawing\n",
    "    list_of_values_of_attributes : list\n",
    "        A list of all the potential values of node_attribute to assign one color\n",
    "        per value.\n",
    "    \"\"\"\n",
    "    # initialze Figure\n",
    "    plt.figure(num=None, figsize=(20, 20), dpi=80)\n",
    "    plt.axis('off')\n",
    "    fig = plt.figure(1)\n",
    "\n",
    "    pos = nx.spring_layout(g, iterations=100)\n",
    "\n",
    "    if node_attribute and list_of_values_of_attributes:\n",
    "        # To associate colors to nodes according to an attribute, here college\n",
    "        # build a color_map, one for each college\n",
    "        color_map = {}\n",
    "        i = 0.0\n",
    "        for s in list_of_values_of_attributes:\n",
    "            color_map[s] = i\n",
    "            i += 1 / len(list_of_values_of_attributes)\n",
    "        color_map[None] = 1  # for nodes without values for the attribute node_attribute\n",
    "\n",
    "        # The values supplied to node_color should be in the same order as the nodes \n",
    "        # listed in G.nodes(). We take an arbitrary mapping of values color_map and \n",
    "        # generate the values list in the correct order\n",
    "        # values = [color_map[G.node[node].get(node_attribute)] for node in G.nodes()]\n",
    "        #  for attributes encoded in the graph\n",
    "        values = []\n",
    "        for node in G.nodes():\n",
    "            if node in node_attribute:\n",
    "                if node_attribute[node]:\n",
    "                    # we arbitrarily take the first value \n",
    "                    values.append(color_map[node_attribute[node][0]])\n",
    "            else:\n",
    "                values.append(1)\n",
    "\n",
    "        nx.draw_networkx_nodes(g, pos, cmap=plt.get_cmap('jet'), node_color=values)\n",
    "    else:\n",
    "        nx.draw_networkx_nodes(g, pos)\n",
    "\n",
    "    nx.draw_networkx_edges(g, pos)\n",
    "    nx.draw_networkx_labels(g, pos)\n",
    "\n",
    "    cut = 1.00\n",
    "    xmax = cut * max(xx for xx, yy in pos.values())\n",
    "    ymax = cut * max(yy for xx, yy in pos.values())\n",
    "    plt.xlim(0, xmax)\n",
    "    plt.ylim(0, ymax)\n",
    "    plt.show()\n",
    "    pylab.close()\n",
    "    del fig\n",
    "\n",
    "\n",
    "def properties(g):\n",
    "    \"\"\"\n",
    "    Computes simple and classic graph metrics.\n",
    "\n",
    "    Parameters\n",
    "    ----------\n",
    "    g : graph\n",
    "       A networkx graph\n",
    "    \"\"\"\n",
    "    # networkx short summary of information for the graph g\n",
    "    print(nx.info(g))\n",
    "\n",
    "    # Draw the degree distribution. Powerlow distribution for a real (complex) network\n",
    "    plt.figure(num=None)\n",
    "    fig = plt.figure(1)\n",
    "    degree_sequence = [d for n, d in g.degree()]  # degree sequence\n",
    "    print(\"Degree sequence %s\" % degree_sequence)\n",
    "    plt.hist(degree_sequence, bins='auto')\n",
    "    plt.title(\"powerlaw degree distribution\")\n",
    "    plt.ylabel(\"# nodes\")\n",
    "    plt.xlabel(\"degree\")\n",
    "    plt.show()\n",
    "    pylab.close()\n",
    "    del fig\n",
    "\n",
    "    precomputed_eccentricity = nx.eccentricity(g)  # costly step, we save time here!\n",
    "    print(\"Graph density %f\" % nx.density(g))\n",
    "    print(\"Diameter (maximum eccentricity): %d\" % nx.diameter(g, precomputed_eccentricity))\n",
    "    print(\"Radius (minimum eccentricity): %d\" % nx.radius(g,\n",
    "                                                          precomputed_eccentricity))  # The radius is the minimum eccentricity.\n",
    "    print(\"Mean eccentricity (eccentricity(v) = the maximum distance from v to all other nodes): %s\" % np.mean(\n",
    "        list(precomputed_eccentricity.values())))\n",
    "    print(\"Center is composed of %d nodes (nodes with eccentricity equal to radius)\" % len(\n",
    "        nx.center(g, precomputed_eccentricity)))\n",
    "    print(\"Periphery is composed of %d nodes (nodes with eccentricity equal to the diameter)\" % len(\n",
    "        nx.periphery(g, precomputed_eccentricity)))\n",
    "    print(\"Mean clustering coefficient %f\" % np.mean(list(nx.clustering(g).values())))\n",
    "    total_triangles = sum(nx.triangles(g).values()) / 3\n",
    "    print(\"Total number of triangles in graph: %d\" % total_triangles)\n",
    "\n",
    "\n",
    "#--------------------- Let's take a quick NetworkX tour ------------------------------#\n",
    "# load the graph\n",
    "G = nx.read_gexf(\"mediumLinkedin.gexf\")\n",
    "\n",
    "# load the profiles. 3 files for each type of attribute\n",
    "# Some nodes in G have no attributes, or just location, or all of same\n",
    "# Some nodes may have 2 or more colleges or employers, so we\n",
    "# use dictionaries to store the attributes\n",
    "college = {}\n",
    "location = {}\n",
    "employer = {}\n",
    "# The dictionaries are loaded as dictionaries from the disk (see pickle in Python doc)\n",
    "with open('mediumCollege.pickle', 'rb') as handle:\n",
    "    college = pickle.load(handle)\n",
    "with open('mediumLocation.pickle', 'rb') as handle:\n",
    "    location = pickle.load(handle)\n",
    "with open('mediumEmployer.pickle', 'rb') as handle:\n",
    "    employer = pickle.load(handle)\n",
    "\n",
    "print(\"Nb of users with one or more attribute college: %d\" % len(college))\n",
    "print(\"Nb of users with one or more attribute location: %d\" % len(location))\n",
    "print(\"Nb of users with one or more attribute employer: %d\" % len(employer))\n",
    "\n",
    "def findUserInfo(employeeNum):\n",
    "    print('For User = ' + employeeNum)    \n",
    "    if employeeNum in [k for k in college.keys()]: \n",
    "        print('colleges exists')\n",
    "        print(college[employeeNum])\n",
    "    if employeeNum in [k for k in employer.keys()]: \n",
    "        print('employer exists')\n",
    "        print(employer[employeeNum])\n",
    "    if employeeNum in [k for k in location.keys()]: \n",
    "        print('location exists')\n",
    "        print(location[employeeNum])\n",
    "    print('\\n')"
   ]
  },
  {
   "cell_type": "code",
   "execution_count": null,
   "metadata": {},
   "outputs": [],
   "source": [
    "   "
   ]
  },
  {
   "cell_type": "code",
   "execution_count": 58,
   "metadata": {},
   "outputs": [],
   "source": [
    "# Mining college data:\n",
    "\n",
    "def dataToMtx(dic,g=G):\n",
    "    noRe=0\n",
    "    relation = np.zeros(nx.to_numpy_matrix(g).shape)\n",
    "    findNumByName={}\n",
    "    findNameByNum={}\n",
    "    index = 0\n",
    "    for n in g.nodes():\n",
    "        findNameByNum[index]=n\n",
    "        findNumByName[n]=index\n",
    "        index += 1\n",
    "\n",
    "    for n in g:\n",
    "        if n not in dic.keys():\n",
    "            noRe += 1\n",
    "            continue\n",
    "        for ClgName in dic[n]:\n",
    "    #         print(ClgName)\n",
    "            for ngb in G[n]:\n",
    "                if ngb not in dic.keys():\n",
    "                    continue\n",
    "                for ClgName2 in dic[ngb]:\n",
    "    #                 print(ClgName2)\n",
    "                    if ClgName == ClgName2:\n",
    "                            relation[findNumByName[n],findNumByName[ngb]]=1\n",
    "    return relation"
   ]
  },
  {
   "cell_type": "code",
   "execution_count": 54,
   "metadata": {},
   "outputs": [],
   "source": [
    "relationCollege = dataToMtx(college,G)\n",
    "relationLocation = dataToMtx(location,G)\n",
    "relationEmployer = dataToMtx(employer,G)"
   ]
  },
  {
   "cell_type": "code",
   "execution_count": 86,
   "metadata": {},
   "outputs": [
    {
     "name": "stdout",
     "output_type": "stream",
     "text": [
      "0.0027297668038408778  \n",
      "U27476 s college is shanghai jiao tong university\n",
      "U4665 s college is university of illinois at urbana-champaign\n",
      "U2649 s college is shanghai university of finance and economics\n",
      "U27759 s college is southeast university\n",
      "U24095 s college is dalian university of technology\n"
     ]
    },
    {
     "ename": "KeyError",
     "evalue": "'U27776'",
     "output_type": "error",
     "traceback": [
      "\u001b[1;31m---------------------------------------------------------------------------\u001b[0m",
      "\u001b[1;31mKeyError\u001b[0m                                  Traceback (most recent call last)",
      "\u001b[1;32m<ipython-input-86-dfcd624889e1>\u001b[0m in \u001b[0;36m<module>\u001b[1;34m()\u001b[0m\n\u001b[0;32m      8\u001b[0m     \u001b[0mname\u001b[0m \u001b[1;33m=\u001b[0m \u001b[0mfindNameByNum\u001b[0m\u001b[1;33m[\u001b[0m\u001b[0mmaxLing\u001b[0m\u001b[1;33m]\u001b[0m\u001b[1;33m\u001b[0m\u001b[0m\n\u001b[0;32m      9\u001b[0m     \u001b[1;32mfor\u001b[0m \u001b[0mngb\u001b[0m \u001b[1;32min\u001b[0m \u001b[0mG\u001b[0m\u001b[1;33m[\u001b[0m\u001b[0mname\u001b[0m\u001b[1;33m]\u001b[0m\u001b[1;33m:\u001b[0m\u001b[1;33m\u001b[0m\u001b[0m\n\u001b[1;32m---> 10\u001b[1;33m         \u001b[0mprint\u001b[0m\u001b[1;33m(\u001b[0m\u001b[0mngb\u001b[0m \u001b[1;33m+\u001b[0m\u001b[1;34m' s college is '\u001b[0m\u001b[1;33m+\u001b[0m\u001b[0mcollege\u001b[0m\u001b[1;33m[\u001b[0m\u001b[0mngb\u001b[0m\u001b[1;33m]\u001b[0m\u001b[1;33m[\u001b[0m\u001b[1;36m0\u001b[0m\u001b[1;33m]\u001b[0m\u001b[1;33m)\u001b[0m\u001b[1;33m\u001b[0m\u001b[0m\n\u001b[0m\u001b[0;32m     11\u001b[0m     \u001b[0mColleges\u001b[0m \u001b[1;33m=\u001b[0m \u001b[0mcollege\u001b[0m\u001b[1;33m[\u001b[0m\u001b[0mname\u001b[0m\u001b[1;33m]\u001b[0m\u001b[1;33m\u001b[0m\u001b[0m\n\u001b[0;32m     12\u001b[0m     \u001b[0mprint\u001b[0m\u001b[1;33m(\u001b[0m\u001b[0mColleges\u001b[0m\u001b[1;33m)\u001b[0m\u001b[1;33m\u001b[0m\u001b[0m\n",
      "\u001b[1;31mKeyError\u001b[0m: 'U27776'"
     ]
    }
   ],
   "source": [
    "# College Mining \n",
    "ProbaCollege = np.sum(relationCollege)/(len(college)**2)\n",
    "print(str(ProbaCollege) + \"  \")\n",
    "c = np.sum(relationCollege,1)\n",
    "for i in range(5):\n",
    "    maxLing= np.argmax(c)\n",
    "    c[maxLing] = 0\n",
    "    name = findNameByNum[maxLing]\n",
    "    for ngb in G[name]:\n",
    "        if ngb in college.keys():\n",
    "            print(ngb +' s college is '+college[ngb][0])\n",
    "    Colleges = college[name]\n",
    "    print(Colleges)\n"
   ]
  },
  {
   "cell_type": "code",
   "execution_count": 56,
   "metadata": {},
   "outputs": [
    {
     "name": "stdout",
     "output_type": "stream",
     "text": [
      "0.0014778302654164912  \n"
     ]
    }
   ],
   "source": [
    "ProbaLocation = np.sum(relationLocation)/(len(location)**2)\n",
    "print(str(ProbaLocation) + \"  \")"
   ]
  },
  {
   "cell_type": "code",
   "execution_count": 57,
   "metadata": {},
   "outputs": [
    {
     "name": "stdout",
     "output_type": "stream",
     "text": [
      "0.0013435916682304372  \n"
     ]
    }
   ],
   "source": [
    "ProbaEmployer = np.sum(relationEmployer)/(len(employer)**2)\n",
    "print(str(ProbaEmployer) + \"  \")"
   ]
  },
  {
   "cell_type": "code",
   "execution_count": 96,
   "metadata": {},
   "outputs": [],
   "source": [
    "\n",
    "def setWeight(point1,point2):\n",
    "    weight = 1\n",
    "    if point1 in employer.keys() and point2 in employer.keys():\n",
    "        if employer[point1] == employer[point2]:\n",
    "            weight += 1\n",
    "    if point1 in college.keys() and point2 in college.keys():\n",
    "        if college[point1] == college[point2]:\n",
    "            weight += 1\n",
    "    if point1 in location.keys() and point2 in location.keys():\n",
    "        if location[point1] == location[point2]:\n",
    "            weight += 1\n",
    "    \n",
    "    return weight\n",
    "\n",
    "# for n in G:\n",
    "#     for m in G:\n",
    "#         if n != m:\n",
    "for i in G.edges():\n",
    "    w = setWeight(i[0],i[1])\n",
    "    G.add_weighted_edges_from([(i[0],i[1],w),(i[1],i[0],w)])\n",
    "l = nx.dijkstra_path(G,clientNum,bestChoice)"
   ]
  },
  {
   "cell_type": "code",
   "execution_count": 90,
   "metadata": {},
   "outputs": [],
   "source": [
    "allW = 0\n",
    "for i in range(len(l)-1):\n",
    "    allW += setWeight(l[i],l[i+1])"
   ]
  },
  {
   "cell_type": "code",
   "execution_count": 91,
   "metadata": {},
   "outputs": [
    {
     "data": {
      "text/plain": [
       "['U19886', 'U7091', 'U7024', 'U7202', 'U27287', 'U11597', 'U3955']"
      ]
     },
     "execution_count": 91,
     "metadata": {},
     "output_type": "execute_result"
    }
   ],
   "source": [
    "# Path calculated by Dijkstra\n",
    "l"
   ]
  },
  {
   "cell_type": "code",
   "execution_count": 93,
   "metadata": {},
   "outputs": [
    {
     "data": {
      "text/plain": [
       "7"
      ]
     },
     "execution_count": 93,
     "metadata": {},
     "output_type": "execute_result"
    }
   ],
   "source": [
    "# Total Weight\n",
    "allW"
   ]
  },
  {
   "cell_type": "code",
   "execution_count": 95,
   "metadata": {},
   "outputs": [
    {
     "name": "stdout",
     "output_type": "stream",
     "text": [
      "For User = U19886\n",
      "location exists\n",
      "['rockford illinois area']\n",
      "\n",
      "\n",
      "For User = U7091\n",
      "employer exists\n",
      "['illinois college advising corps']\n",
      "location exists\n",
      "['urbana-champaign illinois area']\n",
      "\n",
      "\n",
      "For User = U7024\n",
      "colleges exists\n",
      "['university of illinois at urbana-champaign']\n",
      "employer exists\n",
      "['university of illinois at urbana-champaign']\n",
      "location exists\n",
      "['urbana-champaign illinois area']\n",
      "\n",
      "\n",
      "For User = U7202\n",
      "employer exists\n",
      "['google', 'university of illinois at urbana-champaign']\n",
      "location exists\n",
      "['san francisco bay area']\n",
      "\n",
      "\n",
      "For User = U27287\n",
      "colleges exists\n",
      "['university of illinois at urbana-champaign', 'shanghai jiao tong university', 'university of new mexico', 'hong kong university of science and technology']\n",
      "employer exists\n",
      "['university of illinois at urbana-champaign']\n",
      "location exists\n",
      "['urbana-champaign illinois area']\n",
      "\n",
      "\n",
      "For User = U11597\n",
      "employer exists\n",
      "['baidu inc.']\n",
      "location exists\n",
      "['beijing city china']\n",
      "\n",
      "\n",
      "For User = U3955\n",
      "employer exists\n",
      "['google']\n",
      "location exists\n",
      "['china']\n",
      "\n",
      "\n"
     ]
    }
   ],
   "source": [
    "for i in range(0,len(l)):\n",
    "    findUserInfo(l[i])"
   ]
  },
  {
   "cell_type": "code",
   "execution_count": 4,
   "metadata": {
    "scrolled": true
   },
   "outputs": [],
   "source": [
    "# string matching Functions\n",
    "def strMatchDict(str1,dict2 , jobNow = False ):\n",
    "    users = []\n",
    "    if dict2 != None :\n",
    "        if jobNow == True:\n",
    "            for key in dict2.keys():\n",
    "                if dict2[key][0].find(str1) >= 0:\n",
    "                    users.append(key)\n",
    "        else:\n",
    "            for key in dict2.keys():\n",
    "                for str2 in dict2[key]:    \n",
    "                    if str2.find(str1) >= 0:\n",
    "                        users.append(key)\n",
    "        return users\n",
    "    \n",
    "def strMatchList(str1,list2 ):\n",
    "    for i in range(0,len(list2)):\n",
    "        if list2[i].find(str1)>=0 and i==0:\n",
    "                return 'is working in' + ' ' +str1\n",
    "        elif list2[i].find(str1)>=0 and i != 0:\n",
    "                return 'was working in' +  ' ' +str1\n",
    "    return 'not in ' + str1"
   ]
  },
  {
   "cell_type": "code",
   "execution_count": 5,
   "metadata": {},
   "outputs": [
    {
     "name": "stdout",
     "output_type": "stream",
     "text": [
      "For User = U19886\n",
      "location exists\n",
      "['rockford illinois area']\n",
      "\n",
      "\n"
     ]
    }
   ],
   "source": [
    "clientNum = 'U19886'\n",
    "findUserInfo(clientNum)"
   ]
  },
  {
   "cell_type": "code",
   "execution_count": 44,
   "metadata": {},
   "outputs": [
    {
     "name": "stdout",
     "output_type": "stream",
     "text": [
      "all google workers = 35\n",
      "actual google workers = 23\n",
      "The best google worker U3955 and his google neigbor number is 5\n"
     ]
    }
   ],
   "source": [
    "ggEmAll = strMatchDict('google',employer)\n",
    "print('all google workers = '+ str(len(ggEmAll)))\n",
    "ggEmNow = strMatchDict('google',employer,True)\n",
    "print('actual google workers = ' +str(len(ggEmNow)))\n",
    "bestChoice = ''\n",
    "bestDegree = 0\n",
    "for u in ggEmNow:\n",
    "    i=0\n",
    "    for k in  G.neighbors(u):\n",
    "        if k in ggEmAll:\n",
    "            i+=1\n",
    "    if bestDegree < i:\n",
    "        bestDegree = i\n",
    "        bestChoice = u\n",
    "print('The best google worker '+bestChoice+' and his google neigbor number is '+ str(bestDegree))\n"
   ]
  },
  {
   "cell_type": "code",
   "execution_count": 39,
   "metadata": {
    "scrolled": true
   },
   "outputs": [
    {
     "name": "stdout",
     "output_type": "stream",
     "text": [
      "U7202 worked in Google\n",
      "U24154 worked in Google\n",
      "U19913 worked in Google\n",
      "U24080 worked in Google\n",
      "U27661 worked in Google\n",
      "U27494 worked in Google\n",
      "U4568 worked in Google\n",
      "U3955 worked in Google\n"
     ]
    }
   ],
   "source": [
    "# Test Finished  \n",
    "# Implementation of BFS\n",
    "import queue as Q\n",
    "\n",
    "weightDict={}\n",
    "endPoint = []\n",
    "dicPaths = {}\n",
    "oldNum = []\n",
    "q = Q.Queue()\n",
    "q.put(clientNum)\n",
    "\n",
    "ggEmDegree = []\n",
    "for n in ggEmNow:\n",
    "    ggEmDegree.append((G.degree(n),n )) \n",
    "\n",
    "ggEmDegree = [m for (n,m) in sorted(ggEmDegree,reverse=True)]\n",
    "\n",
    "while(~q.empty()):\n",
    "    user = q.get()\n",
    "    oldNum.append(user) \n",
    "    ngbs = G.neighbors(user)\n",
    "    for n in ngbs:\n",
    "        if n not in oldNum:\n",
    "            w = setWeight(user,n)\n",
    "            weightDict[(user,n)] = w\n",
    "            weightDict[(n,user)] = w\n",
    "            q.put(n)\n",
    "            dicPaths[n] = user\n",
    "            if n in ggEmDegree[:10]and n not in endPoint:\n",
    "                print(n+' worked in Google')\n",
    "                endPoint.append(n)\n",
    "    if bestChoice in endPoint: \n",
    "        break "
   ]
  },
  {
   "cell_type": "code",
   "execution_count": 40,
   "metadata": {},
   "outputs": [],
   "source": [
    "# Get and find the path!\n",
    "Roads = {}\n",
    "Pweights = {}\n",
    "for i in range(0,len(endPoint)):\n",
    "    Pweight = 0\n",
    "    Roads[endPoint[i]] = [endPoint[i]]\n",
    "    beforeP = dicPaths[endPoint[i]]\n",
    "    while(beforeP != clientNum):\n",
    "        Pweight += weightDict[(beforeP,dicPaths[beforeP])]\n",
    "        Roads[endPoint[i]].insert(0,beforeP)\n",
    "        beforeP = dicPaths[beforeP]\n",
    "    Roads[endPoint[i]].insert(0,clientNum)\n",
    "    Pweights[endPoint[i]] = Pweight"
   ]
  },
  {
   "cell_type": "code",
   "execution_count": 41,
   "metadata": {},
   "outputs": [
    {
     "name": "stdout",
     "output_type": "stream",
     "text": [
      "this path's weight is  2\n",
      "\n",
      "\n",
      "Fastest Path is \n",
      "\t['U19886', 'U7091', 'U7167', 'U7024', 'U7202']\n"
     ]
    }
   ],
   "source": [
    "# Fastest Path and EndPointDegree \n",
    "Way1 = [(len(Roads[key]),key) for key in Roads.keys()]\n",
    "Way1 = sorted(Way1)\n",
    "print('this path\\'s weight is  '+ str(Pweights[Way1[0][1]]))\n",
    "print('\\n')\n",
    "print('Fastest Path is \\n\\t' + str(Roads[Way1[0][1]]))"
   ]
  },
  {
   "cell_type": "code",
   "execution_count": 42,
   "metadata": {
    "scrolled": false
   },
   "outputs": [
    {
     "name": "stdout",
     "output_type": "stream",
     "text": [
      "For User = U19886\n",
      "location exists\n",
      "['rockford illinois area']\n",
      "\n",
      "\n",
      "For User = U7091\n",
      "employer exists\n",
      "['illinois college advising corps']\n",
      "location exists\n",
      "['urbana-champaign illinois area']\n",
      "\n",
      "\n",
      "For User = U7167\n",
      "colleges exists\n",
      "['university of illinois']\n",
      "employer exists\n",
      "['champaign-urbana special recreation', 'old navy']\n",
      "location exists\n",
      "['urbana-champaign illinois area']\n",
      "\n",
      "\n",
      "For User = U7024\n",
      "colleges exists\n",
      "['university of illinois at urbana-champaign']\n",
      "employer exists\n",
      "['university of illinois at urbana-champaign']\n",
      "location exists\n",
      "['urbana-champaign illinois area']\n",
      "\n",
      "\n",
      "For User = U7202\n",
      "employer exists\n",
      "['google', 'university of illinois at urbana-champaign']\n",
      "location exists\n",
      "['san francisco bay area']\n",
      "\n",
      "\n"
     ]
    }
   ],
   "source": [
    "# Show fastest path's infomation\n",
    "for i in range(0,len(Roads[Way1[0][1]])):\n",
    "    findUserInfo(Roads[Way1[0][1]][i])"
   ]
  },
  {
   "cell_type": "code",
   "execution_count": 83,
   "metadata": {},
   "outputs": [
    {
     "name": "stdout",
     "output_type": "stream",
     "text": [
      "This path's weight is  9\n",
      "\n",
      "\n",
      "Biggest choice Path is \n",
      "\t['U19886', 'U7091', 'U7167', 'U7024', 'U7319', 'U7256', 'U27287', 'U27585', 'U27661', 'U11597', 'U3955']\n"
     ]
    },
    {
     "data": {
      "text/plain": [
       "['U19886', 'U7091', 'U7109', 'U7024', 'U7202', 'U27287', 'U11597', 'U3955']"
      ]
     },
     "execution_count": 83,
     "metadata": {},
     "output_type": "execute_result"
    }
   ],
   "source": [
    "# Biggest Degree Path\n",
    "Way2 = [(G.degree(key),key) for key in Roads.keys()]\n",
    "Way2 = sorted(Way2,reverse =True)\n",
    "print('This path\\'s weight is  '+ str(Pweights[Way2[0][1]]))\n",
    "print('\\n')\n",
    "print('Biggest choice Path is \\n\\t' + str(Roads[Way2[0][1]]))\n",
    "l \n",
    "# for n in nx.astar_path(G,clientNum,bestChoice):\n",
    "#     print(G.degree(n))"
   ]
  },
  {
   "cell_type": "code",
   "execution_count": 12,
   "metadata": {},
   "outputs": [
    {
     "name": "stdout",
     "output_type": "stream",
     "text": [
      "For User = U19886\n",
      "location exists\n",
      "['rockford illinois area']\n",
      "\n",
      "\n",
      "For User = U7091\n",
      "employer exists\n",
      "['illinois college advising corps']\n",
      "location exists\n",
      "['urbana-champaign illinois area']\n",
      "\n",
      "\n",
      "For User = U7167\n",
      "colleges exists\n",
      "['university of illinois']\n",
      "employer exists\n",
      "['champaign-urbana special recreation', 'old navy']\n",
      "location exists\n",
      "['urbana-champaign illinois area']\n",
      "\n",
      "\n",
      "For User = U7024\n",
      "colleges exists\n",
      "['university of illinois at urbana-champaign']\n",
      "employer exists\n",
      "['university of illinois at urbana-champaign']\n",
      "location exists\n",
      "['urbana-champaign illinois area']\n",
      "\n",
      "\n",
      "For User = U7319\n",
      "colleges exists\n",
      "['university of illinois at urbana-champaign']\n",
      "employer exists\n",
      "['amazon', 'neustar inc.', 'university of illinois at urbana-champaign']\n",
      "location exists\n",
      "['urbana-champaign illinois area']\n",
      "\n",
      "\n",
      "For User = U7256\n",
      "colleges exists\n",
      "['university of illinois at urbana-champaign']\n",
      "employer exists\n",
      "['university of illinois at urbana-champaign']\n",
      "location exists\n",
      "['urbana-champaign illinois area']\n",
      "\n",
      "\n",
      "For User = U27287\n",
      "colleges exists\n",
      "['university of illinois at urbana-champaign', 'shanghai jiao tong university', 'university of new mexico', 'hong kong university of science and technology']\n",
      "employer exists\n",
      "['university of illinois at urbana-champaign']\n",
      "location exists\n",
      "['urbana-champaign illinois area']\n",
      "\n",
      "\n",
      "For User = U27585\n",
      "colleges exists\n",
      "['east china normal university software engineering institute']\n",
      "employer exists\n",
      "['apple', 'university of pittsburgh school of information science', 'haoban digital co.']\n",
      "location exists\n",
      "['san francisco bay area']\n",
      "\n",
      "\n",
      "For User = U27661\n",
      "colleges exists\n",
      "['shanghai jiao tong university']\n",
      "employer exists\n",
      "['google', 'at&amp;t labs inc.', 'university of michigan']\n",
      "location exists\n",
      "['san francisco bay area']\n",
      "\n",
      "\n",
      "For User = U11597\n",
      "employer exists\n",
      "['baidu inc.']\n",
      "location exists\n",
      "['beijing city china']\n",
      "\n",
      "\n",
      "For User = U3955\n",
      "employer exists\n",
      "['google']\n",
      "location exists\n",
      "['china']\n",
      "\n",
      "\n"
     ]
    }
   ],
   "source": [
    "# Show Biggest degree path's infomation\n",
    "for i in range(0,len(Roads[Way2[0][1]])):\n",
    "    findUserInfo(Roads[Way2[0][1]][i])"
   ]
  }
 ],
 "metadata": {
  "kernelspec": {
   "display_name": "Python 3",
   "language": "python",
   "name": "python3"
  },
  "language_info": {
   "codemirror_mode": {
    "name": "ipython",
    "version": 3
   },
   "file_extension": ".py",
   "mimetype": "text/x-python",
   "name": "python",
   "nbconvert_exporter": "python",
   "pygments_lexer": "ipython3",
   "version": "3.6.5rc1"
  }
 },
 "nbformat": 4,
 "nbformat_minor": 2
}
